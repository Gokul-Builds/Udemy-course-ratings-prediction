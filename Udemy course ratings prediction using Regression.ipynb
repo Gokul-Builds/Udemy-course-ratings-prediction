{
 "cells": [
  {
   "cell_type": "code",
   "execution_count": 1,
   "id": "6d88df30",
   "metadata": {},
   "outputs": [],
   "source": [
    "import numpy as np\n",
    "import pandas as pd\n",
    "from sklearn.model_selection import train_test_split, GridSearchCV\n",
    "from sklearn.linear_model import Ridge, LinearRegression, Lasso\n",
    "from sklearn.metrics import mean_squared_error , r2_score, mean_absolute_error\n",
    "from sklearn.linear_model import LassoCV\n",
    "from sklearn.ensemble import RandomForestRegressor\n",
    "from xgboost import XGBRegressor"
   ]
  },
  {
   "cell_type": "code",
   "execution_count": 2,
   "id": "53ee39f9",
   "metadata": {},
   "outputs": [],
   "source": [
    "df = pd.read_csv(\"courses.csv\")"
   ]
  },
  {
   "cell_type": "code",
   "execution_count": 3,
   "id": "6631f6a7",
   "metadata": {},
   "outputs": [
    {
     "data": {
      "text/html": [
       "<div>\n",
       "<style scoped>\n",
       "    .dataframe tbody tr th:only-of-type {\n",
       "        vertical-align: middle;\n",
       "    }\n",
       "\n",
       "    .dataframe tbody tr th {\n",
       "        vertical-align: top;\n",
       "    }\n",
       "\n",
       "    .dataframe thead th {\n",
       "        text-align: right;\n",
       "    }\n",
       "</style>\n",
       "<table border=\"1\" class=\"dataframe\">\n",
       "  <thead>\n",
       "    <tr style=\"text-align: right;\">\n",
       "      <th></th>\n",
       "      <th>course_id</th>\n",
       "      <th>course_title</th>\n",
       "      <th>url</th>\n",
       "      <th>price</th>\n",
       "      <th>num_subscribers</th>\n",
       "      <th>num_reviews</th>\n",
       "      <th>num_lectures</th>\n",
       "      <th>level</th>\n",
       "      <th>Rating</th>\n",
       "      <th>content_duration</th>\n",
       "      <th>published_timestamp</th>\n",
       "      <th>subject</th>\n",
       "    </tr>\n",
       "  </thead>\n",
       "  <tbody>\n",
       "    <tr>\n",
       "      <th>0</th>\n",
       "      <td>41295.0</td>\n",
       "      <td>Learn HTML5 Programming From Scratch</td>\n",
       "      <td>https://www.udemy.com/learn-html5-programming-...</td>\n",
       "      <td>0.0</td>\n",
       "      <td>268923.0</td>\n",
       "      <td>8629.0</td>\n",
       "      <td>45.0</td>\n",
       "      <td>Beginner Level</td>\n",
       "      <td>0.82</td>\n",
       "      <td>10.5</td>\n",
       "      <td>2013-02-14T07:03:41Z</td>\n",
       "      <td>Subject: Web Development</td>\n",
       "    </tr>\n",
       "    <tr>\n",
       "      <th>1</th>\n",
       "      <td>59014.0</td>\n",
       "      <td>Coding for Entrepreneurs Basic</td>\n",
       "      <td>https://www.udemy.com/coding-for-entrepreneurs...</td>\n",
       "      <td>0.0</td>\n",
       "      <td>161029.0</td>\n",
       "      <td>279.0</td>\n",
       "      <td>27.0</td>\n",
       "      <td>Expert Level</td>\n",
       "      <td>0.69</td>\n",
       "      <td>3.5</td>\n",
       "      <td>2013-06-09T15:51:55Z</td>\n",
       "      <td>Subject: Web Development</td>\n",
       "    </tr>\n",
       "    <tr>\n",
       "      <th>2</th>\n",
       "      <td>625204.0</td>\n",
       "      <td>The Web Developer Bootcamp</td>\n",
       "      <td>https://www.udemy.com/the-web-developer-bootcamp/</td>\n",
       "      <td>200.0</td>\n",
       "      <td>121584.0</td>\n",
       "      <td>27445.0</td>\n",
       "      <td>342.0</td>\n",
       "      <td>Beginner Level</td>\n",
       "      <td>0.89</td>\n",
       "      <td>43.0</td>\n",
       "      <td>2015-11-02T21:13:27Z</td>\n",
       "      <td>Subject: Web Development</td>\n",
       "    </tr>\n",
       "    <tr>\n",
       "      <th>3</th>\n",
       "      <td>173548.0</td>\n",
       "      <td>Build Your First Website in 1 Week with HTML5 ...</td>\n",
       "      <td>https://www.udemy.com/build-your-first-website...</td>\n",
       "      <td>0.0</td>\n",
       "      <td>120291.0</td>\n",
       "      <td>5924.0</td>\n",
       "      <td>30.0</td>\n",
       "      <td>All Levels</td>\n",
       "      <td>0.78</td>\n",
       "      <td>3.0</td>\n",
       "      <td>2014-04-08T16:21:30Z</td>\n",
       "      <td>Subject: Web Development</td>\n",
       "    </tr>\n",
       "    <tr>\n",
       "      <th>4</th>\n",
       "      <td>764164.0</td>\n",
       "      <td>The Complete Web Developer Course 2.0</td>\n",
       "      <td>https://www.udemy.com/the-complete-web-develop...</td>\n",
       "      <td>200.0</td>\n",
       "      <td>114512.0</td>\n",
       "      <td>22412.0</td>\n",
       "      <td>304.0</td>\n",
       "      <td>Beginner Level</td>\n",
       "      <td>0.55</td>\n",
       "      <td>30.5</td>\n",
       "      <td>2016-03-08T22:28:36Z</td>\n",
       "      <td>Subject: Web Development</td>\n",
       "    </tr>\n",
       "  </tbody>\n",
       "</table>\n",
       "</div>"
      ],
      "text/plain": [
       "   course_id                                       course_title  \\\n",
       "0    41295.0               Learn HTML5 Programming From Scratch   \n",
       "1    59014.0                     Coding for Entrepreneurs Basic   \n",
       "2   625204.0                         The Web Developer Bootcamp   \n",
       "3   173548.0  Build Your First Website in 1 Week with HTML5 ...   \n",
       "4   764164.0              The Complete Web Developer Course 2.0   \n",
       "\n",
       "                                                 url  price  num_subscribers  \\\n",
       "0  https://www.udemy.com/learn-html5-programming-...    0.0         268923.0   \n",
       "1  https://www.udemy.com/coding-for-entrepreneurs...    0.0         161029.0   \n",
       "2  https://www.udemy.com/the-web-developer-bootcamp/  200.0         121584.0   \n",
       "3  https://www.udemy.com/build-your-first-website...    0.0         120291.0   \n",
       "4  https://www.udemy.com/the-complete-web-develop...  200.0         114512.0   \n",
       "\n",
       "   num_reviews  num_lectures           level  Rating  content_duration  \\\n",
       "0       8629.0          45.0  Beginner Level    0.82              10.5   \n",
       "1        279.0          27.0    Expert Level    0.69               3.5   \n",
       "2      27445.0         342.0  Beginner Level    0.89              43.0   \n",
       "3       5924.0          30.0      All Levels    0.78               3.0   \n",
       "4      22412.0         304.0  Beginner Level    0.55              30.5   \n",
       "\n",
       "    published_timestamp                   subject  \n",
       "0  2013-02-14T07:03:41Z  Subject: Web Development  \n",
       "1  2013-06-09T15:51:55Z  Subject: Web Development  \n",
       "2  2015-11-02T21:13:27Z  Subject: Web Development  \n",
       "3  2014-04-08T16:21:30Z  Subject: Web Development  \n",
       "4  2016-03-08T22:28:36Z  Subject: Web Development  "
      ]
     },
     "execution_count": 3,
     "metadata": {},
     "output_type": "execute_result"
    }
   ],
   "source": [
    "df.head()"
   ]
  },
  {
   "cell_type": "code",
   "execution_count": 4,
   "id": "26970df3",
   "metadata": {},
   "outputs": [
    {
     "data": {
      "text/plain": [
       "course_id              4\n",
       "course_title           4\n",
       "url                    4\n",
       "price                  4\n",
       "num_subscribers        4\n",
       "num_reviews            4\n",
       "num_lectures           4\n",
       "level                  4\n",
       "Rating                 4\n",
       "content_duration       4\n",
       "published_timestamp    4\n",
       "subject                3\n",
       "dtype: int64"
      ]
     },
     "execution_count": 4,
     "metadata": {},
     "output_type": "execute_result"
    }
   ],
   "source": [
    "np.sum(df.isna())"
   ]
  },
  {
   "cell_type": "code",
   "execution_count": 5,
   "id": "4f4bdfc7",
   "metadata": {},
   "outputs": [],
   "source": [
    "df = df.dropna() "
   ]
  },
  {
   "cell_type": "code",
   "execution_count": 6,
   "id": "3bd2e2fd",
   "metadata": {},
   "outputs": [
    {
     "data": {
      "text/html": [
       "<div>\n",
       "<style scoped>\n",
       "    .dataframe tbody tr th:only-of-type {\n",
       "        vertical-align: middle;\n",
       "    }\n",
       "\n",
       "    .dataframe tbody tr th {\n",
       "        vertical-align: top;\n",
       "    }\n",
       "\n",
       "    .dataframe thead th {\n",
       "        text-align: right;\n",
       "    }\n",
       "</style>\n",
       "<table border=\"1\" class=\"dataframe\">\n",
       "  <thead>\n",
       "    <tr style=\"text-align: right;\">\n",
       "      <th></th>\n",
       "      <th>course_id</th>\n",
       "      <th>course_title</th>\n",
       "      <th>url</th>\n",
       "      <th>price</th>\n",
       "      <th>num_subscribers</th>\n",
       "      <th>num_reviews</th>\n",
       "      <th>num_lectures</th>\n",
       "      <th>level</th>\n",
       "      <th>Rating</th>\n",
       "      <th>content_duration</th>\n",
       "      <th>published_timestamp</th>\n",
       "      <th>subject</th>\n",
       "    </tr>\n",
       "  </thead>\n",
       "  <tbody>\n",
       "    <tr>\n",
       "      <th>0</th>\n",
       "      <td>41295.0</td>\n",
       "      <td>Learn HTML5 Programming From Scratch</td>\n",
       "      <td>https://www.udemy.com/learn-html5-programming-...</td>\n",
       "      <td>0.0</td>\n",
       "      <td>268923.0</td>\n",
       "      <td>8629.0</td>\n",
       "      <td>45.0</td>\n",
       "      <td>Beginner Level</td>\n",
       "      <td>0.82</td>\n",
       "      <td>10.5</td>\n",
       "      <td>2013-02-14T07:03:41Z</td>\n",
       "      <td>Subject: Web Development</td>\n",
       "    </tr>\n",
       "    <tr>\n",
       "      <th>1</th>\n",
       "      <td>59014.0</td>\n",
       "      <td>Coding for Entrepreneurs Basic</td>\n",
       "      <td>https://www.udemy.com/coding-for-entrepreneurs...</td>\n",
       "      <td>0.0</td>\n",
       "      <td>161029.0</td>\n",
       "      <td>279.0</td>\n",
       "      <td>27.0</td>\n",
       "      <td>Expert Level</td>\n",
       "      <td>0.69</td>\n",
       "      <td>3.5</td>\n",
       "      <td>2013-06-09T15:51:55Z</td>\n",
       "      <td>Subject: Web Development</td>\n",
       "    </tr>\n",
       "    <tr>\n",
       "      <th>2</th>\n",
       "      <td>625204.0</td>\n",
       "      <td>The Web Developer Bootcamp</td>\n",
       "      <td>https://www.udemy.com/the-web-developer-bootcamp/</td>\n",
       "      <td>200.0</td>\n",
       "      <td>121584.0</td>\n",
       "      <td>27445.0</td>\n",
       "      <td>342.0</td>\n",
       "      <td>Beginner Level</td>\n",
       "      <td>0.89</td>\n",
       "      <td>43.0</td>\n",
       "      <td>2015-11-02T21:13:27Z</td>\n",
       "      <td>Subject: Web Development</td>\n",
       "    </tr>\n",
       "    <tr>\n",
       "      <th>3</th>\n",
       "      <td>173548.0</td>\n",
       "      <td>Build Your First Website in 1 Week with HTML5 ...</td>\n",
       "      <td>https://www.udemy.com/build-your-first-website...</td>\n",
       "      <td>0.0</td>\n",
       "      <td>120291.0</td>\n",
       "      <td>5924.0</td>\n",
       "      <td>30.0</td>\n",
       "      <td>All Levels</td>\n",
       "      <td>0.78</td>\n",
       "      <td>3.0</td>\n",
       "      <td>2014-04-08T16:21:30Z</td>\n",
       "      <td>Subject: Web Development</td>\n",
       "    </tr>\n",
       "    <tr>\n",
       "      <th>4</th>\n",
       "      <td>764164.0</td>\n",
       "      <td>The Complete Web Developer Course 2.0</td>\n",
       "      <td>https://www.udemy.com/the-complete-web-develop...</td>\n",
       "      <td>200.0</td>\n",
       "      <td>114512.0</td>\n",
       "      <td>22412.0</td>\n",
       "      <td>304.0</td>\n",
       "      <td>Beginner Level</td>\n",
       "      <td>0.55</td>\n",
       "      <td>30.5</td>\n",
       "      <td>2016-03-08T22:28:36Z</td>\n",
       "      <td>Subject: Web Development</td>\n",
       "    </tr>\n",
       "  </tbody>\n",
       "</table>\n",
       "</div>"
      ],
      "text/plain": [
       "   course_id                                       course_title  \\\n",
       "0    41295.0               Learn HTML5 Programming From Scratch   \n",
       "1    59014.0                     Coding for Entrepreneurs Basic   \n",
       "2   625204.0                         The Web Developer Bootcamp   \n",
       "3   173548.0  Build Your First Website in 1 Week with HTML5 ...   \n",
       "4   764164.0              The Complete Web Developer Course 2.0   \n",
       "\n",
       "                                                 url  price  num_subscribers  \\\n",
       "0  https://www.udemy.com/learn-html5-programming-...    0.0         268923.0   \n",
       "1  https://www.udemy.com/coding-for-entrepreneurs...    0.0         161029.0   \n",
       "2  https://www.udemy.com/the-web-developer-bootcamp/  200.0         121584.0   \n",
       "3  https://www.udemy.com/build-your-first-website...    0.0         120291.0   \n",
       "4  https://www.udemy.com/the-complete-web-develop...  200.0         114512.0   \n",
       "\n",
       "   num_reviews  num_lectures           level  Rating  content_duration  \\\n",
       "0       8629.0          45.0  Beginner Level    0.82              10.5   \n",
       "1        279.0          27.0    Expert Level    0.69               3.5   \n",
       "2      27445.0         342.0  Beginner Level    0.89              43.0   \n",
       "3       5924.0          30.0      All Levels    0.78               3.0   \n",
       "4      22412.0         304.0  Beginner Level    0.55              30.5   \n",
       "\n",
       "    published_timestamp                   subject  \n",
       "0  2013-02-14T07:03:41Z  Subject: Web Development  \n",
       "1  2013-06-09T15:51:55Z  Subject: Web Development  \n",
       "2  2015-11-02T21:13:27Z  Subject: Web Development  \n",
       "3  2014-04-08T16:21:30Z  Subject: Web Development  \n",
       "4  2016-03-08T22:28:36Z  Subject: Web Development  "
      ]
     },
     "execution_count": 6,
     "metadata": {},
     "output_type": "execute_result"
    }
   ],
   "source": [
    "df.head()"
   ]
  },
  {
   "cell_type": "code",
   "execution_count": 7,
   "id": "3e8e4e3f",
   "metadata": {},
   "outputs": [],
   "source": [
    "df = df.drop(columns = [\"course_id\", \"course_title\", \"url\", \"published_timestamp\"])"
   ]
  },
  {
   "cell_type": "code",
   "execution_count": 8,
   "id": "599d147a",
   "metadata": {},
   "outputs": [
    {
     "data": {
      "text/html": [
       "<div>\n",
       "<style scoped>\n",
       "    .dataframe tbody tr th:only-of-type {\n",
       "        vertical-align: middle;\n",
       "    }\n",
       "\n",
       "    .dataframe tbody tr th {\n",
       "        vertical-align: top;\n",
       "    }\n",
       "\n",
       "    .dataframe thead th {\n",
       "        text-align: right;\n",
       "    }\n",
       "</style>\n",
       "<table border=\"1\" class=\"dataframe\">\n",
       "  <thead>\n",
       "    <tr style=\"text-align: right;\">\n",
       "      <th></th>\n",
       "      <th>price</th>\n",
       "      <th>num_subscribers</th>\n",
       "      <th>num_reviews</th>\n",
       "      <th>num_lectures</th>\n",
       "      <th>level</th>\n",
       "      <th>Rating</th>\n",
       "      <th>content_duration</th>\n",
       "      <th>subject</th>\n",
       "    </tr>\n",
       "  </thead>\n",
       "  <tbody>\n",
       "    <tr>\n",
       "      <th>0</th>\n",
       "      <td>0.0</td>\n",
       "      <td>268923.0</td>\n",
       "      <td>8629.0</td>\n",
       "      <td>45.0</td>\n",
       "      <td>Beginner Level</td>\n",
       "      <td>0.82</td>\n",
       "      <td>10.5</td>\n",
       "      <td>Subject: Web Development</td>\n",
       "    </tr>\n",
       "    <tr>\n",
       "      <th>1</th>\n",
       "      <td>0.0</td>\n",
       "      <td>161029.0</td>\n",
       "      <td>279.0</td>\n",
       "      <td>27.0</td>\n",
       "      <td>Expert Level</td>\n",
       "      <td>0.69</td>\n",
       "      <td>3.5</td>\n",
       "      <td>Subject: Web Development</td>\n",
       "    </tr>\n",
       "    <tr>\n",
       "      <th>2</th>\n",
       "      <td>200.0</td>\n",
       "      <td>121584.0</td>\n",
       "      <td>27445.0</td>\n",
       "      <td>342.0</td>\n",
       "      <td>Beginner Level</td>\n",
       "      <td>0.89</td>\n",
       "      <td>43.0</td>\n",
       "      <td>Subject: Web Development</td>\n",
       "    </tr>\n",
       "    <tr>\n",
       "      <th>3</th>\n",
       "      <td>0.0</td>\n",
       "      <td>120291.0</td>\n",
       "      <td>5924.0</td>\n",
       "      <td>30.0</td>\n",
       "      <td>All Levels</td>\n",
       "      <td>0.78</td>\n",
       "      <td>3.0</td>\n",
       "      <td>Subject: Web Development</td>\n",
       "    </tr>\n",
       "    <tr>\n",
       "      <th>4</th>\n",
       "      <td>200.0</td>\n",
       "      <td>114512.0</td>\n",
       "      <td>22412.0</td>\n",
       "      <td>304.0</td>\n",
       "      <td>Beginner Level</td>\n",
       "      <td>0.55</td>\n",
       "      <td>30.5</td>\n",
       "      <td>Subject: Web Development</td>\n",
       "    </tr>\n",
       "  </tbody>\n",
       "</table>\n",
       "</div>"
      ],
      "text/plain": [
       "   price  num_subscribers  num_reviews  num_lectures           level  Rating  \\\n",
       "0    0.0         268923.0       8629.0          45.0  Beginner Level    0.82   \n",
       "1    0.0         161029.0        279.0          27.0    Expert Level    0.69   \n",
       "2  200.0         121584.0      27445.0         342.0  Beginner Level    0.89   \n",
       "3    0.0         120291.0       5924.0          30.0      All Levels    0.78   \n",
       "4  200.0         114512.0      22412.0         304.0  Beginner Level    0.55   \n",
       "\n",
       "   content_duration                   subject  \n",
       "0              10.5  Subject: Web Development  \n",
       "1               3.5  Subject: Web Development  \n",
       "2              43.0  Subject: Web Development  \n",
       "3               3.0  Subject: Web Development  \n",
       "4              30.5  Subject: Web Development  "
      ]
     },
     "execution_count": 8,
     "metadata": {},
     "output_type": "execute_result"
    }
   ],
   "source": [
    "df.head()"
   ]
  },
  {
   "cell_type": "code",
   "execution_count": 9,
   "id": "164c4c72",
   "metadata": {},
   "outputs": [
    {
     "data": {
      "text/plain": [
       "'Beginner LevelExpert LevelAll LevelsIntermediate Level'"
      ]
     },
     "execution_count": 9,
     "metadata": {},
     "output_type": "execute_result"
    }
   ],
   "source": [
    "np.sum(df['level'].unique())"
   ]
  },
  {
   "cell_type": "code",
   "execution_count": 10,
   "id": "8ce667ab",
   "metadata": {},
   "outputs": [
    {
     "data": {
      "text/plain": [
       "All Levels            1925\n",
       "Beginner Level        1271\n",
       "Intermediate Level     422\n",
       "Expert Level            58\n",
       "Name: level, dtype: int64"
      ]
     },
     "execution_count": 10,
     "metadata": {},
     "output_type": "execute_result"
    }
   ],
   "source": [
    "df['level'].value_counts()"
   ]
  },
  {
   "cell_type": "code",
   "execution_count": 11,
   "id": "bc03c49f",
   "metadata": {},
   "outputs": [
    {
     "data": {
      "text/plain": [
       "3676"
      ]
     },
     "execution_count": 11,
     "metadata": {},
     "output_type": "execute_result"
    }
   ],
   "source": [
    "np.sum(df['level'].value_counts())"
   ]
  },
  {
   "cell_type": "code",
   "execution_count": 12,
   "id": "2ee01cea",
   "metadata": {},
   "outputs": [
    {
     "data": {
      "text/html": [
       "<div>\n",
       "<style scoped>\n",
       "    .dataframe tbody tr th:only-of-type {\n",
       "        vertical-align: middle;\n",
       "    }\n",
       "\n",
       "    .dataframe tbody tr th {\n",
       "        vertical-align: top;\n",
       "    }\n",
       "\n",
       "    .dataframe thead th {\n",
       "        text-align: right;\n",
       "    }\n",
       "</style>\n",
       "<table border=\"1\" class=\"dataframe\">\n",
       "  <thead>\n",
       "    <tr style=\"text-align: right;\">\n",
       "      <th></th>\n",
       "      <th>price</th>\n",
       "      <th>num_subscribers</th>\n",
       "      <th>num_reviews</th>\n",
       "      <th>num_lectures</th>\n",
       "      <th>Rating</th>\n",
       "      <th>content_duration</th>\n",
       "    </tr>\n",
       "  </thead>\n",
       "  <tbody>\n",
       "    <tr>\n",
       "      <th>price</th>\n",
       "      <td>1.000000</td>\n",
       "      <td>0.050555</td>\n",
       "      <td>0.113423</td>\n",
       "      <td>0.330233</td>\n",
       "      <td>0.031643</td>\n",
       "      <td>0.293245</td>\n",
       "    </tr>\n",
       "    <tr>\n",
       "      <th>num_subscribers</th>\n",
       "      <td>0.050555</td>\n",
       "      <td>1.000000</td>\n",
       "      <td>0.650761</td>\n",
       "      <td>0.158092</td>\n",
       "      <td>-0.007353</td>\n",
       "      <td>0.161844</td>\n",
       "    </tr>\n",
       "    <tr>\n",
       "      <th>num_reviews</th>\n",
       "      <td>0.113423</td>\n",
       "      <td>0.650761</td>\n",
       "      <td>1.000000</td>\n",
       "      <td>0.242986</td>\n",
       "      <td>0.004137</td>\n",
       "      <td>0.228842</td>\n",
       "    </tr>\n",
       "    <tr>\n",
       "      <th>num_lectures</th>\n",
       "      <td>0.330233</td>\n",
       "      <td>0.158092</td>\n",
       "      <td>0.242986</td>\n",
       "      <td>1.000000</td>\n",
       "      <td>-0.037170</td>\n",
       "      <td>0.801630</td>\n",
       "    </tr>\n",
       "    <tr>\n",
       "      <th>Rating</th>\n",
       "      <td>0.031643</td>\n",
       "      <td>-0.007353</td>\n",
       "      <td>0.004137</td>\n",
       "      <td>-0.037170</td>\n",
       "      <td>1.000000</td>\n",
       "      <td>0.000650</td>\n",
       "    </tr>\n",
       "    <tr>\n",
       "      <th>content_duration</th>\n",
       "      <td>0.293245</td>\n",
       "      <td>0.161844</td>\n",
       "      <td>0.228842</td>\n",
       "      <td>0.801630</td>\n",
       "      <td>0.000650</td>\n",
       "      <td>1.000000</td>\n",
       "    </tr>\n",
       "  </tbody>\n",
       "</table>\n",
       "</div>"
      ],
      "text/plain": [
       "                     price  num_subscribers  num_reviews  num_lectures  \\\n",
       "price             1.000000         0.050555     0.113423      0.330233   \n",
       "num_subscribers   0.050555         1.000000     0.650761      0.158092   \n",
       "num_reviews       0.113423         0.650761     1.000000      0.242986   \n",
       "num_lectures      0.330233         0.158092     0.242986      1.000000   \n",
       "Rating            0.031643        -0.007353     0.004137     -0.037170   \n",
       "content_duration  0.293245         0.161844     0.228842      0.801630   \n",
       "\n",
       "                    Rating  content_duration  \n",
       "price             0.031643          0.293245  \n",
       "num_subscribers  -0.007353          0.161844  \n",
       "num_reviews       0.004137          0.228842  \n",
       "num_lectures     -0.037170          0.801630  \n",
       "Rating            1.000000          0.000650  \n",
       "content_duration  0.000650          1.000000  "
      ]
     },
     "execution_count": 12,
     "metadata": {},
     "output_type": "execute_result"
    }
   ],
   "source": [
    "df.corr()"
   ]
  },
  {
   "cell_type": "code",
   "execution_count": 13,
   "id": "af3f9c96",
   "metadata": {},
   "outputs": [],
   "source": [
    "df_encoded = pd.get_dummies(df, columns=['level'], prefix='level')"
   ]
  },
  {
   "cell_type": "code",
   "execution_count": 14,
   "id": "7331126a",
   "metadata": {},
   "outputs": [
    {
     "data": {
      "text/html": [
       "<div>\n",
       "<style scoped>\n",
       "    .dataframe tbody tr th:only-of-type {\n",
       "        vertical-align: middle;\n",
       "    }\n",
       "\n",
       "    .dataframe tbody tr th {\n",
       "        vertical-align: top;\n",
       "    }\n",
       "\n",
       "    .dataframe thead th {\n",
       "        text-align: right;\n",
       "    }\n",
       "</style>\n",
       "<table border=\"1\" class=\"dataframe\">\n",
       "  <thead>\n",
       "    <tr style=\"text-align: right;\">\n",
       "      <th></th>\n",
       "      <th>price</th>\n",
       "      <th>num_subscribers</th>\n",
       "      <th>num_reviews</th>\n",
       "      <th>num_lectures</th>\n",
       "      <th>Rating</th>\n",
       "      <th>content_duration</th>\n",
       "      <th>subject</th>\n",
       "      <th>level_All Levels</th>\n",
       "      <th>level_Beginner Level</th>\n",
       "      <th>level_Expert Level</th>\n",
       "      <th>level_Intermediate Level</th>\n",
       "    </tr>\n",
       "  </thead>\n",
       "  <tbody>\n",
       "    <tr>\n",
       "      <th>0</th>\n",
       "      <td>0.0</td>\n",
       "      <td>268923.0</td>\n",
       "      <td>8629.0</td>\n",
       "      <td>45.0</td>\n",
       "      <td>0.82</td>\n",
       "      <td>10.500000</td>\n",
       "      <td>Subject: Web Development</td>\n",
       "      <td>0</td>\n",
       "      <td>1</td>\n",
       "      <td>0</td>\n",
       "      <td>0</td>\n",
       "    </tr>\n",
       "    <tr>\n",
       "      <th>1</th>\n",
       "      <td>0.0</td>\n",
       "      <td>161029.0</td>\n",
       "      <td>279.0</td>\n",
       "      <td>27.0</td>\n",
       "      <td>0.69</td>\n",
       "      <td>3.500000</td>\n",
       "      <td>Subject: Web Development</td>\n",
       "      <td>0</td>\n",
       "      <td>0</td>\n",
       "      <td>1</td>\n",
       "      <td>0</td>\n",
       "    </tr>\n",
       "    <tr>\n",
       "      <th>2</th>\n",
       "      <td>200.0</td>\n",
       "      <td>121584.0</td>\n",
       "      <td>27445.0</td>\n",
       "      <td>342.0</td>\n",
       "      <td>0.89</td>\n",
       "      <td>43.000000</td>\n",
       "      <td>Subject: Web Development</td>\n",
       "      <td>0</td>\n",
       "      <td>1</td>\n",
       "      <td>0</td>\n",
       "      <td>0</td>\n",
       "    </tr>\n",
       "    <tr>\n",
       "      <th>3</th>\n",
       "      <td>0.0</td>\n",
       "      <td>120291.0</td>\n",
       "      <td>5924.0</td>\n",
       "      <td>30.0</td>\n",
       "      <td>0.78</td>\n",
       "      <td>3.000000</td>\n",
       "      <td>Subject: Web Development</td>\n",
       "      <td>1</td>\n",
       "      <td>0</td>\n",
       "      <td>0</td>\n",
       "      <td>0</td>\n",
       "    </tr>\n",
       "    <tr>\n",
       "      <th>4</th>\n",
       "      <td>200.0</td>\n",
       "      <td>114512.0</td>\n",
       "      <td>22412.0</td>\n",
       "      <td>304.0</td>\n",
       "      <td>0.55</td>\n",
       "      <td>30.500000</td>\n",
       "      <td>Subject: Web Development</td>\n",
       "      <td>0</td>\n",
       "      <td>1</td>\n",
       "      <td>0</td>\n",
       "      <td>0</td>\n",
       "    </tr>\n",
       "    <tr>\n",
       "      <th>...</th>\n",
       "      <td>...</td>\n",
       "      <td>...</td>\n",
       "      <td>...</td>\n",
       "      <td>...</td>\n",
       "      <td>...</td>\n",
       "      <td>...</td>\n",
       "      <td>...</td>\n",
       "      <td>...</td>\n",
       "      <td>...</td>\n",
       "      <td>...</td>\n",
       "      <td>...</td>\n",
       "    </tr>\n",
       "    <tr>\n",
       "      <th>3675</th>\n",
       "      <td>20.0</td>\n",
       "      <td>0.0</td>\n",
       "      <td>0.0</td>\n",
       "      <td>23.0</td>\n",
       "      <td>0.31</td>\n",
       "      <td>1.500000</td>\n",
       "      <td>Musical Instruments</td>\n",
       "      <td>1</td>\n",
       "      <td>0</td>\n",
       "      <td>0</td>\n",
       "      <td>0</td>\n",
       "    </tr>\n",
       "    <tr>\n",
       "      <th>3676</th>\n",
       "      <td>125.0</td>\n",
       "      <td>0.0</td>\n",
       "      <td>0.0</td>\n",
       "      <td>7.0</td>\n",
       "      <td>0.06</td>\n",
       "      <td>0.633333</td>\n",
       "      <td>Musical Instruments</td>\n",
       "      <td>0</td>\n",
       "      <td>1</td>\n",
       "      <td>0</td>\n",
       "      <td>0</td>\n",
       "    </tr>\n",
       "    <tr>\n",
       "      <th>3677</th>\n",
       "      <td>20.0</td>\n",
       "      <td>0.0</td>\n",
       "      <td>0.0</td>\n",
       "      <td>6.0</td>\n",
       "      <td>0.08</td>\n",
       "      <td>0.533333</td>\n",
       "      <td>Musical Instruments</td>\n",
       "      <td>1</td>\n",
       "      <td>0</td>\n",
       "      <td>0</td>\n",
       "      <td>0</td>\n",
       "    </tr>\n",
       "    <tr>\n",
       "      <th>3678</th>\n",
       "      <td>35.0</td>\n",
       "      <td>0.0</td>\n",
       "      <td>0.0</td>\n",
       "      <td>13.0</td>\n",
       "      <td>0.78</td>\n",
       "      <td>0.516667</td>\n",
       "      <td>Musical Instruments</td>\n",
       "      <td>0</td>\n",
       "      <td>1</td>\n",
       "      <td>0</td>\n",
       "      <td>0</td>\n",
       "    </tr>\n",
       "    <tr>\n",
       "      <th>3679</th>\n",
       "      <td>20.0</td>\n",
       "      <td>0.0</td>\n",
       "      <td>0.0</td>\n",
       "      <td>28.0</td>\n",
       "      <td>0.01</td>\n",
       "      <td>2.500000</td>\n",
       "      <td>Musical Instruments</td>\n",
       "      <td>1</td>\n",
       "      <td>0</td>\n",
       "      <td>0</td>\n",
       "      <td>0</td>\n",
       "    </tr>\n",
       "  </tbody>\n",
       "</table>\n",
       "<p>3676 rows × 11 columns</p>\n",
       "</div>"
      ],
      "text/plain": [
       "      price  num_subscribers  num_reviews  num_lectures  Rating  \\\n",
       "0       0.0         268923.0       8629.0          45.0    0.82   \n",
       "1       0.0         161029.0        279.0          27.0    0.69   \n",
       "2     200.0         121584.0      27445.0         342.0    0.89   \n",
       "3       0.0         120291.0       5924.0          30.0    0.78   \n",
       "4     200.0         114512.0      22412.0         304.0    0.55   \n",
       "...     ...              ...          ...           ...     ...   \n",
       "3675   20.0              0.0          0.0          23.0    0.31   \n",
       "3676  125.0              0.0          0.0           7.0    0.06   \n",
       "3677   20.0              0.0          0.0           6.0    0.08   \n",
       "3678   35.0              0.0          0.0          13.0    0.78   \n",
       "3679   20.0              0.0          0.0          28.0    0.01   \n",
       "\n",
       "      content_duration                   subject  level_All Levels  \\\n",
       "0            10.500000  Subject: Web Development                 0   \n",
       "1             3.500000  Subject: Web Development                 0   \n",
       "2            43.000000  Subject: Web Development                 0   \n",
       "3             3.000000  Subject: Web Development                 1   \n",
       "4            30.500000  Subject: Web Development                 0   \n",
       "...                ...                       ...               ...   \n",
       "3675          1.500000       Musical Instruments                 1   \n",
       "3676          0.633333       Musical Instruments                 0   \n",
       "3677          0.533333       Musical Instruments                 1   \n",
       "3678          0.516667       Musical Instruments                 0   \n",
       "3679          2.500000       Musical Instruments                 1   \n",
       "\n",
       "      level_Beginner Level  level_Expert Level  level_Intermediate Level  \n",
       "0                        1                   0                         0  \n",
       "1                        0                   1                         0  \n",
       "2                        1                   0                         0  \n",
       "3                        0                   0                         0  \n",
       "4                        1                   0                         0  \n",
       "...                    ...                 ...                       ...  \n",
       "3675                     0                   0                         0  \n",
       "3676                     1                   0                         0  \n",
       "3677                     0                   0                         0  \n",
       "3678                     1                   0                         0  \n",
       "3679                     0                   0                         0  \n",
       "\n",
       "[3676 rows x 11 columns]"
      ]
     },
     "execution_count": 14,
     "metadata": {},
     "output_type": "execute_result"
    }
   ],
   "source": [
    "df_encoded"
   ]
  },
  {
   "cell_type": "code",
   "execution_count": 15,
   "id": "2e96b7b3",
   "metadata": {},
   "outputs": [
    {
     "data": {
      "text/plain": [
       "array(['Subject: Web Development', 'Business Finance', 'Graphic Design',\n",
       "       'Musical Instruments'], dtype=object)"
      ]
     },
     "execution_count": 15,
     "metadata": {},
     "output_type": "execute_result"
    }
   ],
   "source": [
    "df['subject'].unique()"
   ]
  },
  {
   "cell_type": "code",
   "execution_count": 16,
   "id": "7160752f",
   "metadata": {},
   "outputs": [
    {
     "data": {
      "text/plain": [
       "'Beginner LevelExpert LevelAll LevelsIntermediate Level'"
      ]
     },
     "execution_count": 16,
     "metadata": {},
     "output_type": "execute_result"
    }
   ],
   "source": [
    "np.sum(df['level'].unique())"
   ]
  },
  {
   "cell_type": "code",
   "execution_count": 17,
   "id": "c7eb2ecc",
   "metadata": {},
   "outputs": [
    {
     "data": {
      "text/plain": [
       "Subject: Web Development    1203\n",
       "Business Finance            1191\n",
       "Musical Instruments          680\n",
       "Graphic Design               602\n",
       "Name: subject, dtype: int64"
      ]
     },
     "execution_count": 17,
     "metadata": {},
     "output_type": "execute_result"
    }
   ],
   "source": [
    "df['subject'].value_counts()"
   ]
  },
  {
   "cell_type": "code",
   "execution_count": 18,
   "id": "895b5f58",
   "metadata": {},
   "outputs": [],
   "source": [
    "df_encoded = pd.get_dummies(df_encoded, columns=['subject'], prefix='subject')"
   ]
  },
  {
   "cell_type": "code",
   "execution_count": 19,
   "id": "19ec712c",
   "metadata": {},
   "outputs": [
    {
     "data": {
      "text/html": [
       "<div>\n",
       "<style scoped>\n",
       "    .dataframe tbody tr th:only-of-type {\n",
       "        vertical-align: middle;\n",
       "    }\n",
       "\n",
       "    .dataframe tbody tr th {\n",
       "        vertical-align: top;\n",
       "    }\n",
       "\n",
       "    .dataframe thead th {\n",
       "        text-align: right;\n",
       "    }\n",
       "</style>\n",
       "<table border=\"1\" class=\"dataframe\">\n",
       "  <thead>\n",
       "    <tr style=\"text-align: right;\">\n",
       "      <th></th>\n",
       "      <th>price</th>\n",
       "      <th>num_subscribers</th>\n",
       "      <th>num_reviews</th>\n",
       "      <th>num_lectures</th>\n",
       "      <th>Rating</th>\n",
       "      <th>content_duration</th>\n",
       "      <th>level_All Levels</th>\n",
       "      <th>level_Beginner Level</th>\n",
       "      <th>level_Expert Level</th>\n",
       "      <th>level_Intermediate Level</th>\n",
       "      <th>subject_Business Finance</th>\n",
       "      <th>subject_Graphic Design</th>\n",
       "      <th>subject_Musical Instruments</th>\n",
       "      <th>subject_Subject: Web Development</th>\n",
       "    </tr>\n",
       "  </thead>\n",
       "  <tbody>\n",
       "    <tr>\n",
       "      <th>0</th>\n",
       "      <td>0.0</td>\n",
       "      <td>268923.0</td>\n",
       "      <td>8629.0</td>\n",
       "      <td>45.0</td>\n",
       "      <td>0.82</td>\n",
       "      <td>10.500000</td>\n",
       "      <td>0</td>\n",
       "      <td>1</td>\n",
       "      <td>0</td>\n",
       "      <td>0</td>\n",
       "      <td>0</td>\n",
       "      <td>0</td>\n",
       "      <td>0</td>\n",
       "      <td>1</td>\n",
       "    </tr>\n",
       "    <tr>\n",
       "      <th>1</th>\n",
       "      <td>0.0</td>\n",
       "      <td>161029.0</td>\n",
       "      <td>279.0</td>\n",
       "      <td>27.0</td>\n",
       "      <td>0.69</td>\n",
       "      <td>3.500000</td>\n",
       "      <td>0</td>\n",
       "      <td>0</td>\n",
       "      <td>1</td>\n",
       "      <td>0</td>\n",
       "      <td>0</td>\n",
       "      <td>0</td>\n",
       "      <td>0</td>\n",
       "      <td>1</td>\n",
       "    </tr>\n",
       "    <tr>\n",
       "      <th>2</th>\n",
       "      <td>200.0</td>\n",
       "      <td>121584.0</td>\n",
       "      <td>27445.0</td>\n",
       "      <td>342.0</td>\n",
       "      <td>0.89</td>\n",
       "      <td>43.000000</td>\n",
       "      <td>0</td>\n",
       "      <td>1</td>\n",
       "      <td>0</td>\n",
       "      <td>0</td>\n",
       "      <td>0</td>\n",
       "      <td>0</td>\n",
       "      <td>0</td>\n",
       "      <td>1</td>\n",
       "    </tr>\n",
       "    <tr>\n",
       "      <th>3</th>\n",
       "      <td>0.0</td>\n",
       "      <td>120291.0</td>\n",
       "      <td>5924.0</td>\n",
       "      <td>30.0</td>\n",
       "      <td>0.78</td>\n",
       "      <td>3.000000</td>\n",
       "      <td>1</td>\n",
       "      <td>0</td>\n",
       "      <td>0</td>\n",
       "      <td>0</td>\n",
       "      <td>0</td>\n",
       "      <td>0</td>\n",
       "      <td>0</td>\n",
       "      <td>1</td>\n",
       "    </tr>\n",
       "    <tr>\n",
       "      <th>4</th>\n",
       "      <td>200.0</td>\n",
       "      <td>114512.0</td>\n",
       "      <td>22412.0</td>\n",
       "      <td>304.0</td>\n",
       "      <td>0.55</td>\n",
       "      <td>30.500000</td>\n",
       "      <td>0</td>\n",
       "      <td>1</td>\n",
       "      <td>0</td>\n",
       "      <td>0</td>\n",
       "      <td>0</td>\n",
       "      <td>0</td>\n",
       "      <td>0</td>\n",
       "      <td>1</td>\n",
       "    </tr>\n",
       "    <tr>\n",
       "      <th>...</th>\n",
       "      <td>...</td>\n",
       "      <td>...</td>\n",
       "      <td>...</td>\n",
       "      <td>...</td>\n",
       "      <td>...</td>\n",
       "      <td>...</td>\n",
       "      <td>...</td>\n",
       "      <td>...</td>\n",
       "      <td>...</td>\n",
       "      <td>...</td>\n",
       "      <td>...</td>\n",
       "      <td>...</td>\n",
       "      <td>...</td>\n",
       "      <td>...</td>\n",
       "    </tr>\n",
       "    <tr>\n",
       "      <th>3675</th>\n",
       "      <td>20.0</td>\n",
       "      <td>0.0</td>\n",
       "      <td>0.0</td>\n",
       "      <td>23.0</td>\n",
       "      <td>0.31</td>\n",
       "      <td>1.500000</td>\n",
       "      <td>1</td>\n",
       "      <td>0</td>\n",
       "      <td>0</td>\n",
       "      <td>0</td>\n",
       "      <td>0</td>\n",
       "      <td>0</td>\n",
       "      <td>1</td>\n",
       "      <td>0</td>\n",
       "    </tr>\n",
       "    <tr>\n",
       "      <th>3676</th>\n",
       "      <td>125.0</td>\n",
       "      <td>0.0</td>\n",
       "      <td>0.0</td>\n",
       "      <td>7.0</td>\n",
       "      <td>0.06</td>\n",
       "      <td>0.633333</td>\n",
       "      <td>0</td>\n",
       "      <td>1</td>\n",
       "      <td>0</td>\n",
       "      <td>0</td>\n",
       "      <td>0</td>\n",
       "      <td>0</td>\n",
       "      <td>1</td>\n",
       "      <td>0</td>\n",
       "    </tr>\n",
       "    <tr>\n",
       "      <th>3677</th>\n",
       "      <td>20.0</td>\n",
       "      <td>0.0</td>\n",
       "      <td>0.0</td>\n",
       "      <td>6.0</td>\n",
       "      <td>0.08</td>\n",
       "      <td>0.533333</td>\n",
       "      <td>1</td>\n",
       "      <td>0</td>\n",
       "      <td>0</td>\n",
       "      <td>0</td>\n",
       "      <td>0</td>\n",
       "      <td>0</td>\n",
       "      <td>1</td>\n",
       "      <td>0</td>\n",
       "    </tr>\n",
       "    <tr>\n",
       "      <th>3678</th>\n",
       "      <td>35.0</td>\n",
       "      <td>0.0</td>\n",
       "      <td>0.0</td>\n",
       "      <td>13.0</td>\n",
       "      <td>0.78</td>\n",
       "      <td>0.516667</td>\n",
       "      <td>0</td>\n",
       "      <td>1</td>\n",
       "      <td>0</td>\n",
       "      <td>0</td>\n",
       "      <td>0</td>\n",
       "      <td>0</td>\n",
       "      <td>1</td>\n",
       "      <td>0</td>\n",
       "    </tr>\n",
       "    <tr>\n",
       "      <th>3679</th>\n",
       "      <td>20.0</td>\n",
       "      <td>0.0</td>\n",
       "      <td>0.0</td>\n",
       "      <td>28.0</td>\n",
       "      <td>0.01</td>\n",
       "      <td>2.500000</td>\n",
       "      <td>1</td>\n",
       "      <td>0</td>\n",
       "      <td>0</td>\n",
       "      <td>0</td>\n",
       "      <td>0</td>\n",
       "      <td>0</td>\n",
       "      <td>1</td>\n",
       "      <td>0</td>\n",
       "    </tr>\n",
       "  </tbody>\n",
       "</table>\n",
       "<p>3676 rows × 14 columns</p>\n",
       "</div>"
      ],
      "text/plain": [
       "      price  num_subscribers  num_reviews  num_lectures  Rating  \\\n",
       "0       0.0         268923.0       8629.0          45.0    0.82   \n",
       "1       0.0         161029.0        279.0          27.0    0.69   \n",
       "2     200.0         121584.0      27445.0         342.0    0.89   \n",
       "3       0.0         120291.0       5924.0          30.0    0.78   \n",
       "4     200.0         114512.0      22412.0         304.0    0.55   \n",
       "...     ...              ...          ...           ...     ...   \n",
       "3675   20.0              0.0          0.0          23.0    0.31   \n",
       "3676  125.0              0.0          0.0           7.0    0.06   \n",
       "3677   20.0              0.0          0.0           6.0    0.08   \n",
       "3678   35.0              0.0          0.0          13.0    0.78   \n",
       "3679   20.0              0.0          0.0          28.0    0.01   \n",
       "\n",
       "      content_duration  level_All Levels  level_Beginner Level  \\\n",
       "0            10.500000                 0                     1   \n",
       "1             3.500000                 0                     0   \n",
       "2            43.000000                 0                     1   \n",
       "3             3.000000                 1                     0   \n",
       "4            30.500000                 0                     1   \n",
       "...                ...               ...                   ...   \n",
       "3675          1.500000                 1                     0   \n",
       "3676          0.633333                 0                     1   \n",
       "3677          0.533333                 1                     0   \n",
       "3678          0.516667                 0                     1   \n",
       "3679          2.500000                 1                     0   \n",
       "\n",
       "      level_Expert Level  level_Intermediate Level  subject_Business Finance  \\\n",
       "0                      0                         0                         0   \n",
       "1                      1                         0                         0   \n",
       "2                      0                         0                         0   \n",
       "3                      0                         0                         0   \n",
       "4                      0                         0                         0   \n",
       "...                  ...                       ...                       ...   \n",
       "3675                   0                         0                         0   \n",
       "3676                   0                         0                         0   \n",
       "3677                   0                         0                         0   \n",
       "3678                   0                         0                         0   \n",
       "3679                   0                         0                         0   \n",
       "\n",
       "      subject_Graphic Design  subject_Musical Instruments  \\\n",
       "0                          0                            0   \n",
       "1                          0                            0   \n",
       "2                          0                            0   \n",
       "3                          0                            0   \n",
       "4                          0                            0   \n",
       "...                      ...                          ...   \n",
       "3675                       0                            1   \n",
       "3676                       0                            1   \n",
       "3677                       0                            1   \n",
       "3678                       0                            1   \n",
       "3679                       0                            1   \n",
       "\n",
       "      subject_Subject: Web Development  \n",
       "0                                    1  \n",
       "1                                    1  \n",
       "2                                    1  \n",
       "3                                    1  \n",
       "4                                    1  \n",
       "...                                ...  \n",
       "3675                                 0  \n",
       "3676                                 0  \n",
       "3677                                 0  \n",
       "3678                                 0  \n",
       "3679                                 0  \n",
       "\n",
       "[3676 rows x 14 columns]"
      ]
     },
     "execution_count": 19,
     "metadata": {},
     "output_type": "execute_result"
    }
   ],
   "source": [
    "df_encoded"
   ]
  },
  {
   "cell_type": "code",
   "execution_count": 20,
   "id": "add57d7c",
   "metadata": {},
   "outputs": [],
   "source": [
    "X = df_encoded.drop(columns=['Rating'])\n",
    "y = df_encoded['Rating']"
   ]
  },
  {
   "cell_type": "code",
   "execution_count": 21,
   "id": "c8affdb0",
   "metadata": {},
   "outputs": [],
   "source": [
    "X_train, X_test, y_train, y_test = train_test_split(X, y, test_size=0.2, random_state=42)"
   ]
  },
  {
   "cell_type": "markdown",
   "id": "47fd1d6e",
   "metadata": {},
   "source": [
    "# Linear Regression"
   ]
  },
  {
   "cell_type": "code",
   "execution_count": 22,
   "id": "4270cae7",
   "metadata": {},
   "outputs": [
    {
     "data": {
      "text/plain": [
       "LinearRegression()"
      ]
     },
     "execution_count": 22,
     "metadata": {},
     "output_type": "execute_result"
    }
   ],
   "source": [
    "linear_model = LinearRegression()\n",
    "linear_model.fit(X_train, y_train)"
   ]
  },
  {
   "cell_type": "code",
   "execution_count": 23,
   "id": "85c9d875",
   "metadata": {},
   "outputs": [],
   "source": [
    "y_pred = linear_model.predict(X_test)"
   ]
  },
  {
   "cell_type": "code",
   "execution_count": 24,
   "id": "d94c2be3",
   "metadata": {},
   "outputs": [],
   "source": [
    "mse = mean_squared_error(y_test, y_pred)"
   ]
  },
  {
   "cell_type": "code",
   "execution_count": 25,
   "id": "fb9e39dc",
   "metadata": {},
   "outputs": [
    {
     "data": {
      "text/plain": [
       "0.09070813365775134"
      ]
     },
     "execution_count": 25,
     "metadata": {},
     "output_type": "execute_result"
    }
   ],
   "source": [
    "mse"
   ]
  },
  {
   "cell_type": "code",
   "execution_count": 26,
   "id": "f057f854",
   "metadata": {},
   "outputs": [],
   "source": [
    "r2 = r2_score(y_test, y_pred)"
   ]
  },
  {
   "cell_type": "code",
   "execution_count": 27,
   "id": "e0ed4b50",
   "metadata": {},
   "outputs": [
    {
     "data": {
      "text/plain": [
       "0.17610871119739147"
      ]
     },
     "execution_count": 27,
     "metadata": {},
     "output_type": "execute_result"
    }
   ],
   "source": [
    "r2"
   ]
  },
  {
   "cell_type": "code",
   "execution_count": 28,
   "id": "2dc65fe4",
   "metadata": {},
   "outputs": [],
   "source": [
    "linear_coefficients = pd.DataFrame({'Feature': X.columns, 'Coefficient': linear_model.coef_})\n"
   ]
  },
  {
   "cell_type": "code",
   "execution_count": 29,
   "id": "489d470c",
   "metadata": {},
   "outputs": [
    {
     "data": {
      "text/html": [
       "<div>\n",
       "<style scoped>\n",
       "    .dataframe tbody tr th:only-of-type {\n",
       "        vertical-align: middle;\n",
       "    }\n",
       "\n",
       "    .dataframe tbody tr th {\n",
       "        vertical-align: top;\n",
       "    }\n",
       "\n",
       "    .dataframe thead th {\n",
       "        text-align: right;\n",
       "    }\n",
       "</style>\n",
       "<table border=\"1\" class=\"dataframe\">\n",
       "  <thead>\n",
       "    <tr style=\"text-align: right;\">\n",
       "      <th></th>\n",
       "      <th>Feature</th>\n",
       "      <th>Coefficient</th>\n",
       "    </tr>\n",
       "  </thead>\n",
       "  <tbody>\n",
       "    <tr>\n",
       "      <th>0</th>\n",
       "      <td>price</td>\n",
       "      <td>-0.000040</td>\n",
       "    </tr>\n",
       "    <tr>\n",
       "      <th>1</th>\n",
       "      <td>num_subscribers</td>\n",
       "      <td>-0.000003</td>\n",
       "    </tr>\n",
       "    <tr>\n",
       "      <th>2</th>\n",
       "      <td>num_reviews</td>\n",
       "      <td>0.000015</td>\n",
       "    </tr>\n",
       "    <tr>\n",
       "      <th>3</th>\n",
       "      <td>num_lectures</td>\n",
       "      <td>-0.000008</td>\n",
       "    </tr>\n",
       "    <tr>\n",
       "      <th>4</th>\n",
       "      <td>content_duration</td>\n",
       "      <td>-0.001096</td>\n",
       "    </tr>\n",
       "    <tr>\n",
       "      <th>5</th>\n",
       "      <td>level_All Levels</td>\n",
       "      <td>0.008694</td>\n",
       "    </tr>\n",
       "    <tr>\n",
       "      <th>6</th>\n",
       "      <td>level_Beginner Level</td>\n",
       "      <td>-0.001984</td>\n",
       "    </tr>\n",
       "    <tr>\n",
       "      <th>7</th>\n",
       "      <td>level_Expert Level</td>\n",
       "      <td>-0.022051</td>\n",
       "    </tr>\n",
       "    <tr>\n",
       "      <th>8</th>\n",
       "      <td>level_Intermediate Level</td>\n",
       "      <td>0.015341</td>\n",
       "    </tr>\n",
       "    <tr>\n",
       "      <th>9</th>\n",
       "      <td>subject_Business Finance</td>\n",
       "      <td>0.092220</td>\n",
       "    </tr>\n",
       "    <tr>\n",
       "      <th>10</th>\n",
       "      <td>subject_Graphic Design</td>\n",
       "      <td>0.130592</td>\n",
       "    </tr>\n",
       "    <tr>\n",
       "      <th>11</th>\n",
       "      <td>subject_Musical Instruments</td>\n",
       "      <td>-0.290835</td>\n",
       "    </tr>\n",
       "    <tr>\n",
       "      <th>12</th>\n",
       "      <td>subject_Subject: Web Development</td>\n",
       "      <td>0.068022</td>\n",
       "    </tr>\n",
       "  </tbody>\n",
       "</table>\n",
       "</div>"
      ],
      "text/plain": [
       "                             Feature  Coefficient\n",
       "0                              price    -0.000040\n",
       "1                    num_subscribers    -0.000003\n",
       "2                        num_reviews     0.000015\n",
       "3                       num_lectures    -0.000008\n",
       "4                   content_duration    -0.001096\n",
       "5                   level_All Levels     0.008694\n",
       "6               level_Beginner Level    -0.001984\n",
       "7                 level_Expert Level    -0.022051\n",
       "8           level_Intermediate Level     0.015341\n",
       "9           subject_Business Finance     0.092220\n",
       "10            subject_Graphic Design     0.130592\n",
       "11       subject_Musical Instruments    -0.290835\n",
       "12  subject_Subject: Web Development     0.068022"
      ]
     },
     "execution_count": 29,
     "metadata": {},
     "output_type": "execute_result"
    }
   ],
   "source": [
    "linear_coefficients"
   ]
  },
  {
   "cell_type": "code",
   "execution_count": 30,
   "id": "5e1846e3",
   "metadata": {},
   "outputs": [],
   "source": [
    "mae = mean_absolute_error(y_pred, y_test)"
   ]
  },
  {
   "cell_type": "code",
   "execution_count": 31,
   "id": "d99637bc",
   "metadata": {},
   "outputs": [
    {
     "data": {
      "text/plain": [
       "0.2558348330661115"
      ]
     },
     "execution_count": 31,
     "metadata": {},
     "output_type": "execute_result"
    }
   ],
   "source": [
    "mae"
   ]
  },
  {
   "cell_type": "code",
   "execution_count": 32,
   "id": "06539309",
   "metadata": {},
   "outputs": [
    {
     "data": {
      "text/plain": [
       "array([ 0.29383228,  0.70104807,  0.30466831,  0.74018638,  0.70011075,\n",
       "        0.64964779,  0.72733548,  0.7016515 ,  0.32256622,  0.66110548,\n",
       "        0.72036306,  0.65541349,  0.69971595,  0.31946544,  0.30184826,\n",
       "        0.31143401,  0.68480143,  0.63130558,  0.67602004,  0.58398094,\n",
       "        0.6979931 ,  0.63071941,  0.65723088,  0.28945858,  0.30077836,\n",
       "        0.30644344,  0.32238176,  0.687465  ,  0.67117833,  0.67227192,\n",
       "        0.72541247,  0.64923275,  0.64569046,  0.67657231,  0.64521423,\n",
       "        0.74076483,  0.69896062,  0.68840683,  0.69468679,  0.68841653,\n",
       "        0.70210315,  0.3064428 ,  0.6975705 ,  0.64721856,  0.31898615,\n",
       "        0.31803067,  0.72237755,  0.52489481,  0.73893922,  0.66967433,\n",
       "        0.739176  ,  0.73103989,  0.74048285,  0.72283396,  0.7012017 ,\n",
       "        0.69828491,  0.66653481,  0.65202932,  0.62986708,  0.64120726,\n",
       "        0.66345286,  0.67298777,  0.69491957,  0.69785005,  0.29581761,\n",
       "        0.608442  ,  0.64389981,  0.68271588,  0.67575701,  0.68829079,\n",
       "        0.66527886,  0.74506857,  0.64720203,  0.74023447,  0.66232217,\n",
       "        0.64998772,  0.66631928,  0.70223336,  0.74010616,  0.31663215,\n",
       "        0.31958804,  0.73159542,  0.67117757,  0.64809482,  0.30673473,\n",
       "        0.69578538,  0.31912114,  0.66254041,  0.67303702,  0.6520728 ,\n",
       "        0.3074117 ,  0.62518655,  0.73730016,  0.66011856,  0.69026955,\n",
       "        0.69489343,  0.69985705,  0.59356087,  0.67190355,  0.53250428,\n",
       "        0.68627761,  0.70352894,  0.68443032,  0.73802612,  0.65255583,\n",
       "        0.69074369,  0.65556858,  0.68352801,  0.70026562,  0.31825154,\n",
       "        0.69532437,  0.30226052,  0.65227437,  0.32728674,  0.69557278,\n",
       "        0.66010041,  0.66630169,  0.73760562,  0.30842018,  0.68500259,\n",
       "        0.6767226 ,  0.72162303,  0.65871012,  0.63056476,  0.31224553,\n",
       "        0.67508369,  0.28739642,  0.69315854,  0.30393387,  0.70344019,\n",
       "        0.69418819,  0.73931533,  0.69174416,  0.73914184,  0.69238216,\n",
       "        0.65540576,  0.58654569,  0.69267524,  0.64408717,  0.70132678,\n",
       "        0.65515961,  0.62872901,  0.66318897,  0.74333957,  0.3080393 ,\n",
       "        0.69229712,  0.31681307,  0.67934762,  0.73797755,  0.74169423,\n",
       "        0.68896343,  0.31829303,  0.69377875,  0.74460183,  0.70666915,\n",
       "        0.68494569,  0.69427164,  0.61877217,  0.65081088,  0.63464588,\n",
       "        0.70788581,  0.65060094,  0.68541909,  0.68841877,  0.72591688,\n",
       "        0.65058888,  0.63383682,  0.66833943,  0.68373907,  0.67325144,\n",
       "        0.67008615,  0.69738992,  0.65525129,  0.68397356,  0.31928765,\n",
       "        0.71045622,  0.73118503,  0.65344793,  0.67285914,  0.66381984,\n",
       "        0.73116443,  0.661594  ,  0.70233361,  0.5335127 ,  0.65139271,\n",
       "        0.65942429,  0.66361198,  0.67566231,  0.74003048,  0.65184614,\n",
       "        0.64569902,  0.65664898,  0.69967254,  0.6995383 ,  0.66374784,\n",
       "        0.65126746,  0.72264599,  0.6823822 ,  0.69998651,  0.70646616,\n",
       "        0.74263069,  0.64248454,  0.73702269,  0.66706875,  0.31615773,\n",
       "        0.66112641,  0.68530172,  0.70224048,  0.30732429,  0.68381996,\n",
       "        0.30805223,  0.31842621,  0.66125152,  0.6568513 ,  0.32523972,\n",
       "        0.6810456 ,  0.69457549,  0.7234237 ,  0.67064883,  0.66474504,\n",
       "        0.72760712,  0.31256316,  0.31783438,  0.30830098,  0.59813842,\n",
       "        0.66742487,  0.69263273,  0.73171051,  0.69424163,  0.74205431,\n",
       "        0.70123843,  0.67267733,  0.7411876 ,  0.31312275,  0.67703385,\n",
       "        0.73441969,  0.6324161 ,  0.67666421,  0.70918491,  0.69713336,\n",
       "        0.68515253,  0.70864637,  0.6654116 ,  0.64573063,  0.31418516,\n",
       "        0.31584661,  0.70231599,  0.69181953,  0.68976992,  0.30968852,\n",
       "        0.73168187,  0.6835557 ,  0.66032624,  0.6450676 ,  0.69666356,\n",
       "        0.65868161,  0.64052549,  0.30842996,  0.72529405,  0.30588483,\n",
       "        0.69798084,  0.68877457,  0.7331727 ,  0.31850639,  0.31601894,\n",
       "        0.64626616,  0.65287317,  0.67360908,  0.31302237,  0.30403704,\n",
       "        0.70244563,  0.30920623,  0.65684128,  0.31597833,  0.62802275,\n",
       "        0.73172378,  0.67497668,  0.73584911,  0.67293659,  0.70993595,\n",
       "        0.73818711,  0.67351635,  0.74067414,  0.69700352,  0.6559012 ,\n",
       "        0.70270985,  0.60185855,  0.71192197,  0.70119246,  0.6896665 ,\n",
       "        0.70120115,  0.73706678,  0.6867279 ,  0.68810281,  0.72808144,\n",
       "        0.67037077,  0.73975493,  0.68836755,  0.30538051,  0.67244148,\n",
       "        0.66060985,  0.63862932,  0.31560659,  0.72993194,  0.67720075,\n",
       "        0.74794714,  0.66510317,  0.65789514,  0.66424021,  0.31419323,\n",
       "        0.70744677,  0.74090812,  0.59950209,  0.63306725,  0.72322754,\n",
       "        0.68337575,  0.64152953,  0.674629  ,  0.66317579,  0.30926076,\n",
       "        0.31192767,  0.70375251,  0.67393365,  0.67375651,  0.66982593,\n",
       "        0.63829667,  0.66353463,  0.73418212,  0.29978212,  0.70355611,\n",
       "        0.6745642 ,  0.62767018,  0.6362657 ,  0.69077185,  0.30097705,\n",
       "        0.66014955,  0.68674181,  0.74103798,  0.67583168,  0.65956925,\n",
       "        0.66429939,  0.6509446 ,  0.73926498,  0.69160256,  0.29980065,\n",
       "        0.63351479,  0.68457133,  0.67057618,  0.51293054,  0.6693659 ,\n",
       "        0.66200646,  0.31756813,  0.66095992,  0.29994993,  0.73589721,\n",
       "        0.6980541 ,  0.69147747,  0.67964214,  0.60732667,  0.69034974,\n",
       "        0.69061244,  0.63230967,  0.69948173,  0.30356286,  0.65750787,\n",
       "        0.31771819,  0.69292905,  0.3266985 ,  0.68524884,  0.56173661,\n",
       "        0.65061611,  0.65285749,  0.30432888,  0.73956549,  0.2825042 ,\n",
       "        0.3014956 ,  0.30906916,  0.68286204,  0.32471705,  0.72063377,\n",
       "        0.67887822,  0.65983357,  0.66848314,  0.30632428,  0.67146551,\n",
       "        0.30837856,  0.68771568,  0.69252145,  0.31029324,  0.31840002,\n",
       "        0.68454645,  0.69057894,  0.68618253,  0.63994294,  0.69389062,\n",
       "        0.6962846 ,  0.65815052,  0.70353372,  0.72686526,  0.31782727,\n",
       "        0.67418556,  0.68543352,  0.6422719 ,  0.66678549,  0.69160769,\n",
       "        0.65727662,  0.70332393,  0.68902167,  0.69612586,  0.68306122,\n",
       "        0.66787056,  0.62873186,  0.67404266,  0.62875388,  0.64105363,\n",
       "        0.67332928,  0.73120663,  0.7236898 ,  0.6927469 ,  0.30110912,\n",
       "        0.65700848,  0.59375041,  0.65364446,  0.65232806,  0.31174586,\n",
       "        0.6375605 ,  0.65643466,  0.66659139,  0.73982487,  0.7266814 ,\n",
       "        0.67688918,  0.70542981,  0.69187038,  0.70287414,  0.61945895,\n",
       "        0.59604989,  0.69125487,  0.63598183,  0.69006875,  0.69335437,\n",
       "        0.64822408,  0.67466749,  0.73566884,  0.65953838,  0.69425099,\n",
       "        0.66115773,  0.65650115,  0.5593071 ,  0.72172634,  0.70112279,\n",
       "        0.69598484,  0.73700942,  0.70354305,  0.72702004,  0.70605658,\n",
       "        0.67519894,  0.31841131,  0.7455898 ,  0.66402137,  0.65716526,\n",
       "        0.32219708,  0.73906455,  0.68836634,  0.72360941,  0.66539514,\n",
       "        0.7280748 ,  0.72049673,  0.66816634,  0.70638481,  0.65966578,\n",
       "        0.65317567,  0.31391199,  0.68816769,  0.73123512,  0.30824333,\n",
       "        0.65208936,  0.72654885,  0.65370409,  0.61697937,  0.7301171 ,\n",
       "        0.69214844,  0.68612802,  0.69769064,  0.68080523,  0.31548896,\n",
       "        0.68863493,  0.3143343 ,  0.69994588,  0.6618249 ,  0.645184  ,\n",
       "        0.3080101 ,  0.72266735,  0.66400369,  0.67646409,  0.66905253,\n",
       "        0.31601159,  0.68270453,  0.3097042 ,  0.6725395 ,  0.67956384,\n",
       "        0.67150616,  0.69749753,  0.69165465,  0.6514832 ,  0.66036841,\n",
       "        0.63119967,  0.65095564,  0.7288997 ,  0.67559411,  0.67285063,\n",
       "        0.73306737,  0.61705728,  0.67982183,  0.65380329,  0.3207682 ,\n",
       "        0.68885947,  0.67702557,  0.31664698,  0.68067676,  0.70020011,\n",
       "        0.3190475 ,  0.3185413 ,  0.63526513,  0.7219559 ,  0.6919369 ,\n",
       "        0.64878696,  0.74081306,  0.69453962,  0.63240433,  0.72569338,\n",
       "        0.65678604,  0.69161946,  0.65469588,  0.71014986,  0.31854318,\n",
       "        0.30883752,  0.70737565,  0.66583558,  0.69169289,  0.68863117,\n",
       "        0.69584023,  0.65145311,  0.31243853,  0.68183124,  0.31791636,\n",
       "        0.65135524,  0.66645761,  0.67741121,  0.30821854,  0.30492991,\n",
       "        0.70344335,  0.59506729,  0.69149656,  0.74174287,  0.64339883,\n",
       "        0.71750947,  0.31843467,  0.67786773,  0.00884507,  0.66249866,\n",
       "        0.6981746 ,  0.68941291,  0.67212689,  0.31586247,  0.31383494,\n",
       "        0.67255576,  0.72707087,  0.29302765,  0.30832459,  0.3176019 ,\n",
       "        0.3049599 ,  0.67377096,  0.69925573,  0.69845404,  0.14250621,\n",
       "        0.73948753,  0.70185463,  0.65810617,  0.64443349,  0.73317603,\n",
       "        0.65780451,  0.67099446,  0.62363674,  0.65585722,  0.73491015,\n",
       "        0.63749237,  0.67250727,  0.68758533,  0.30321236,  0.67501649,\n",
       "        0.63895319,  0.67108069,  0.30664457,  0.65270804,  0.61238129,\n",
       "        0.62975236,  0.68291763,  0.3073415 ,  0.68866535,  0.31972344,\n",
       "        0.67474514,  0.32206317,  0.29102233,  0.68030595,  0.69944831,\n",
       "        0.66469587,  0.32344795,  0.7379082 ,  0.69462635,  0.70230204,\n",
       "        0.67846322,  0.31408885,  0.65720822,  0.69645684, -0.07111483,\n",
       "        0.70244973,  0.31881783,  0.27861386,  0.31592055,  0.66602748,\n",
       "        0.65411021,  0.63034146,  0.70055251,  0.30814694,  0.64449497,\n",
       "        0.68702007,  0.67640052,  0.63230967,  0.6503953 ,  0.64098036,\n",
       "        0.32568885,  0.69700565,  0.29683628,  0.7034977 ,  0.70069089,\n",
       "        0.65595589,  0.72727186,  0.61274615,  0.3183727 ,  0.68785884,\n",
       "        0.67041154,  0.72936701,  0.66557826,  0.70109342,  0.68101166,\n",
       "        0.7016844 ,  0.67289439,  0.70031497,  0.70057905,  0.67787595,\n",
       "        0.73370662,  0.69230156,  0.64816576,  0.69019765,  0.6525959 ,\n",
       "        0.3074821 ,  0.30907158,  0.73202801,  0.74899528,  0.67451288,\n",
       "        0.66873363,  0.32101089,  0.30831644,  0.68707812,  0.68400573,\n",
       "        0.32411677,  0.63562114,  0.69561018,  0.66037753,  0.70816753,\n",
       "        0.30991017,  0.67424422,  0.30134484,  0.30623361,  0.31888016,\n",
       "        0.31960476,  0.69636755,  0.73204256,  0.69170211,  0.32617898,\n",
       "        0.31625496,  0.67250613,  0.68403726,  0.685116  ,  0.68740753,\n",
       "        0.69091933,  0.66881614,  0.6607338 ,  0.69733867,  0.69074778,\n",
       "        0.66603284,  0.6841838 ,  0.31811535,  0.684557  ,  0.65850008,\n",
       "        0.74494359,  0.71916366,  0.72739331,  0.69305626,  0.73980428,\n",
       "        0.72844609,  0.64338976,  0.30942078,  0.31213391,  0.70265557,\n",
       "        0.74160389,  0.70144724,  0.67770318,  0.69140162,  0.65591947,\n",
       "        0.65694814,  0.6820419 ,  0.65823223,  0.482105  ,  0.71870036,\n",
       "        0.71984686,  0.69021415,  0.69861237,  0.73144264,  0.30223063,\n",
       "        0.70124229,  0.31927382,  0.30937175,  0.31788155,  0.65141915,\n",
       "        0.30831235,  0.31505825,  0.63135431,  0.57682334,  0.30368418,\n",
       "        0.69638585,  0.65820145,  0.62656352,  0.31555274,  0.65748952,\n",
       "        0.67308418])"
      ]
     },
     "execution_count": 32,
     "metadata": {},
     "output_type": "execute_result"
    }
   ],
   "source": [
    "y_pred"
   ]
  },
  {
   "cell_type": "code",
   "execution_count": 33,
   "id": "21bac3e0",
   "metadata": {},
   "outputs": [
    {
     "data": {
      "text/plain": [
       "3049    0.11\n",
       "1746    0.55\n",
       "3320    0.55\n",
       "2758    0.98\n",
       "1693    0.74\n",
       "        ... \n",
       "1428    0.76\n",
       "25      0.34\n",
       "3159    1.00\n",
       "681     0.13\n",
       "1001    0.18\n",
       "Name: Rating, Length: 736, dtype: float64"
      ]
     },
     "execution_count": 33,
     "metadata": {},
     "output_type": "execute_result"
    }
   ],
   "source": [
    "y_test"
   ]
  },
  {
   "cell_type": "markdown",
   "id": "c37028fc",
   "metadata": {},
   "source": [
    "# Lasso Regression\n"
   ]
  },
  {
   "cell_type": "code",
   "execution_count": 34,
   "id": "35ddd753",
   "metadata": {},
   "outputs": [
    {
     "data": {
      "text/plain": [
       "Lasso(alpha=0.1)"
      ]
     },
     "execution_count": 34,
     "metadata": {},
     "output_type": "execute_result"
    }
   ],
   "source": [
    "lasso_model = Lasso(alpha=0.1)\n",
    "lasso_model.fit(X_train, y_train)"
   ]
  },
  {
   "cell_type": "code",
   "execution_count": 35,
   "id": "9a8791f8",
   "metadata": {},
   "outputs": [],
   "source": [
    "y_pred = lasso_model.predict(X_test)"
   ]
  },
  {
   "cell_type": "code",
   "execution_count": 36,
   "id": "b359619c",
   "metadata": {},
   "outputs": [
    {
     "data": {
      "text/plain": [
       "0.2967043163914568"
      ]
     },
     "execution_count": 36,
     "metadata": {},
     "output_type": "execute_result"
    }
   ],
   "source": [
    "mean_absolute_error(y_pred, y_test)"
   ]
  },
  {
   "cell_type": "code",
   "execution_count": 37,
   "id": "7fcace05",
   "metadata": {},
   "outputs": [
    {
     "data": {
      "text/plain": [
       "-0.0037406272830555753"
      ]
     },
     "execution_count": 37,
     "metadata": {},
     "output_type": "execute_result"
    }
   ],
   "source": [
    "r2_score(y_test, y_pred)"
   ]
  },
  {
   "cell_type": "code",
   "execution_count": 38,
   "id": "6ecd1355",
   "metadata": {},
   "outputs": [
    {
     "data": {
      "text/plain": [
       "0.11050904435417586"
      ]
     },
     "execution_count": 38,
     "metadata": {},
     "output_type": "execute_result"
    }
   ],
   "source": [
    "mean_squared_error(y_test, y_pred)"
   ]
  },
  {
   "cell_type": "markdown",
   "id": "91b09409",
   "metadata": {},
   "source": [
    "## Fine Tuning Lasso "
   ]
  },
  {
   "cell_type": "code",
   "execution_count": 39,
   "id": "324a3cf3",
   "metadata": {},
   "outputs": [
    {
     "data": {
      "text/plain": [
       "LassoCV(alphas=[0.01, 0.1, 0.5, 1], cv=5)"
      ]
     },
     "execution_count": 39,
     "metadata": {},
     "output_type": "execute_result"
    }
   ],
   "source": [
    "alpha_values = [0.01, 0.1, 0.5, 1]\n",
    "\n",
    "lasso = Lasso()\n",
    "\n",
    "# parameter_grid = {'alpha': alpha_values}\n",
    "lasso_cv = LassoCV(alphas=alpha_values , cv=5)\n",
    "lasso_cv.fit(X_train, y_train)"
   ]
  },
  {
   "cell_type": "code",
   "execution_count": 40,
   "id": "e23aa23f",
   "metadata": {},
   "outputs": [],
   "source": [
    "best_alpha = lasso_cv.alpha_\n"
   ]
  },
  {
   "cell_type": "code",
   "execution_count": 41,
   "id": "ff5c9c2a",
   "metadata": {},
   "outputs": [
    {
     "data": {
      "text/plain": [
       "0.01"
      ]
     },
     "execution_count": 41,
     "metadata": {},
     "output_type": "execute_result"
    }
   ],
   "source": [
    "best_alpha"
   ]
  },
  {
   "cell_type": "code",
   "execution_count": 42,
   "id": "0c2f347e",
   "metadata": {},
   "outputs": [],
   "source": [
    "lasso = Lasso(0.01)\n",
    "lasso.fit(X_train, y_train)\n",
    "y_pred = lasso.predict(X_test)"
   ]
  },
  {
   "cell_type": "code",
   "execution_count": 43,
   "id": "6cf52016",
   "metadata": {},
   "outputs": [
    {
     "data": {
      "text/plain": [
       "0.16489662006971606"
      ]
     },
     "execution_count": 43,
     "metadata": {},
     "output_type": "execute_result"
    }
   ],
   "source": [
    "r2_score(y_test, y_pred)"
   ]
  },
  {
   "cell_type": "code",
   "execution_count": 44,
   "id": "63a50e5a",
   "metadata": {},
   "outputs": [
    {
     "data": {
      "text/plain": [
       "0.262458549435358"
      ]
     },
     "execution_count": 44,
     "metadata": {},
     "output_type": "execute_result"
    }
   ],
   "source": [
    "mean_absolute_error(y_pred, y_test)"
   ]
  },
  {
   "cell_type": "code",
   "execution_count": 45,
   "id": "7dc28712",
   "metadata": {},
   "outputs": [
    {
     "data": {
      "text/plain": [
       "0.0919425536284615"
      ]
     },
     "execution_count": 45,
     "metadata": {},
     "output_type": "execute_result"
    }
   ],
   "source": [
    "mean_squared_error(y_test, y_pred)"
   ]
  },
  {
   "cell_type": "markdown",
   "id": "3843638a",
   "metadata": {},
   "source": [
    "# Random Forest "
   ]
  },
  {
   "cell_type": "code",
   "execution_count": 46,
   "id": "7b0f4291",
   "metadata": {},
   "outputs": [],
   "source": [
    "rf = RandomForestRegressor()"
   ]
  },
  {
   "cell_type": "code",
   "execution_count": 47,
   "id": "7fa388a6",
   "metadata": {},
   "outputs": [
    {
     "data": {
      "text/plain": [
       "RandomForestRegressor()"
      ]
     },
     "execution_count": 47,
     "metadata": {},
     "output_type": "execute_result"
    }
   ],
   "source": [
    "rf.fit(X_train,y_train)"
   ]
  },
  {
   "cell_type": "code",
   "execution_count": 48,
   "id": "6109439e",
   "metadata": {},
   "outputs": [],
   "source": [
    "y_pred = rf.predict(X_test)"
   ]
  },
  {
   "cell_type": "code",
   "execution_count": 49,
   "id": "cee844f3",
   "metadata": {},
   "outputs": [
    {
     "data": {
      "text/plain": [
       "0.20118369565217395"
      ]
     },
     "execution_count": 49,
     "metadata": {},
     "output_type": "execute_result"
    }
   ],
   "source": [
    "mean_absolute_error(y_test, y_pred)"
   ]
  },
  {
   "cell_type": "code",
   "execution_count": 50,
   "id": "7e86103d",
   "metadata": {},
   "outputs": [
    {
     "data": {
      "text/plain": [
       "0.06903745820760869"
      ]
     },
     "execution_count": 50,
     "metadata": {},
     "output_type": "execute_result"
    }
   ],
   "source": [
    "mean_squared_error(y_test, y_pred)"
   ]
  },
  {
   "cell_type": "code",
   "execution_count": 51,
   "id": "52642009",
   "metadata": {},
   "outputs": [
    {
     "data": {
      "text/plain": [
       "0.3729409025993955"
      ]
     },
     "execution_count": 51,
     "metadata": {},
     "output_type": "execute_result"
    }
   ],
   "source": [
    "r2_score(y_test, y_pred)"
   ]
  },
  {
   "cell_type": "markdown",
   "id": "a217c50f",
   "metadata": {},
   "source": [
    "# XGBoost"
   ]
  },
  {
   "cell_type": "code",
   "execution_count": 52,
   "id": "1b8d2ec1",
   "metadata": {},
   "outputs": [],
   "source": [
    "xgb = XGBRegressor(n_estimators = 100, learning_rate = 0.3, max_depth = 5)"
   ]
  },
  {
   "cell_type": "code",
   "execution_count": 53,
   "id": "1aed390d",
   "metadata": {},
   "outputs": [
    {
     "data": {
      "text/plain": [
       "XGBRegressor(base_score=0.5, booster='gbtree', callbacks=None,\n",
       "             colsample_bylevel=1, colsample_bynode=1, colsample_bytree=1,\n",
       "             early_stopping_rounds=None, enable_categorical=False,\n",
       "             eval_metric=None, gamma=0, gpu_id=-1, grow_policy='depthwise',\n",
       "             importance_type=None, interaction_constraints='',\n",
       "             learning_rate=0.3, max_bin=256, max_cat_to_onehot=4,\n",
       "             max_delta_step=0, max_depth=5, max_leaves=0, min_child_weight=1,\n",
       "             missing=nan, monotone_constraints='()', n_estimators=100, n_jobs=0,\n",
       "             num_parallel_tree=1, predictor='auto', random_state=0, reg_alpha=0,\n",
       "             reg_lambda=1, ...)"
      ]
     },
     "execution_count": 53,
     "metadata": {},
     "output_type": "execute_result"
    }
   ],
   "source": [
    "xgb.fit(X_train, y_train)"
   ]
  },
  {
   "cell_type": "code",
   "execution_count": 54,
   "id": "ab02a326",
   "metadata": {},
   "outputs": [],
   "source": [
    "y_pred = xgb.predict(X_test)"
   ]
  },
  {
   "cell_type": "code",
   "execution_count": 55,
   "id": "384cf7c2",
   "metadata": {},
   "outputs": [
    {
     "data": {
      "text/plain": [
       "0.20285954018057648"
      ]
     },
     "execution_count": 55,
     "metadata": {},
     "output_type": "execute_result"
    }
   ],
   "source": [
    "mean_absolute_error(y_test, y_pred)"
   ]
  },
  {
   "cell_type": "code",
   "execution_count": 56,
   "id": "41670dbc",
   "metadata": {},
   "outputs": [
    {
     "data": {
      "text/plain": [
       "0.0685636202117271"
      ]
     },
     "execution_count": 56,
     "metadata": {},
     "output_type": "execute_result"
    }
   ],
   "source": [
    "mean_squared_error(y_test, y_pred)"
   ]
  },
  {
   "cell_type": "code",
   "execution_count": 57,
   "id": "b1cb4fd0",
   "metadata": {},
   "outputs": [
    {
     "data": {
      "text/plain": [
       "0.3772447172780605"
      ]
     },
     "execution_count": 57,
     "metadata": {},
     "output_type": "execute_result"
    }
   ],
   "source": [
    "r2_score(y_test, y_pred)"
   ]
  },
  {
   "cell_type": "code",
   "execution_count": 58,
   "id": "154e9ceb",
   "metadata": {},
   "outputs": [
    {
     "name": "stdout",
     "output_type": "stream",
     "text": [
      "Best Hyperparameters: {'learning_rate': 0.2, 'max_depth': 5, 'n_estimators': 100}\n"
     ]
    }
   ],
   "source": [
    "\n",
    "# Define the hyperparameter grid\n",
    "param_grid = {\n",
    "    'n_estimators': [100, 200, 300],  # You can adjust these values\n",
    "    'learning_rate': [0.3, 0.2, 0.4],  # You can adjust these values\n",
    "    'max_depth': [3, 4, 5]  # You can adjust these values\n",
    "}\n",
    "\n",
    "# Create the XGBoost regressor\n",
    "xgb_model = XGBRegressor()\n",
    "\n",
    "# Initialize GridSearchCV\n",
    "grid_search = GridSearchCV(xgb_model, param_grid, cv=5 )\n",
    "\n",
    "# Perform grid search on your training data\n",
    "grid_search.fit(X_train, y_train)\n",
    "\n",
    "# Get the best hyperparameter values\n",
    "best_params = grid_search.best_params_\n",
    "print(\"Best Hyperparameters:\", best_params)"
   ]
  },
  {
   "cell_type": "code",
   "execution_count": 59,
   "id": "38ed4149",
   "metadata": {},
   "outputs": [
    {
     "name": "stdout",
     "output_type": "stream",
     "text": [
      "Mean Squared Error: 0.06997655767175814\n",
      "Mean Absolute Error: 0.20510692367168223\n",
      "R-squared: 0.36441117283170765\n"
     ]
    }
   ],
   "source": [
    "best_xgb_model = grid_search.best_estimator_\n",
    "y_pred = best_xgb_model.predict(X_test)\n",
    "\n",
    "# Calculate evaluation metrics\n",
    "mse = mean_squared_error(y_test, y_pred)\n",
    "mae = mean_absolute_error(y_test, y_pred)\n",
    "r2 = r2_score(y_test, y_pred)\n",
    "\n",
    "print(\"Mean Squared Error:\", mse)\n",
    "print(\"Mean Absolute Error:\", mae)\n",
    "print(\"R-squared:\", r2)"
   ]
  },
  {
   "cell_type": "code",
   "execution_count": null,
   "id": "51fed8ff",
   "metadata": {},
   "outputs": [],
   "source": []
  }
 ],
 "metadata": {
  "kernelspec": {
   "display_name": "Python 3",
   "language": "python",
   "name": "python3"
  },
  "language_info": {
   "codemirror_mode": {
    "name": "ipython",
    "version": 3
   },
   "file_extension": ".py",
   "mimetype": "text/x-python",
   "name": "python",
   "nbconvert_exporter": "python",
   "pygments_lexer": "ipython3",
   "version": "3.7.6"
  }
 },
 "nbformat": 4,
 "nbformat_minor": 5
}
